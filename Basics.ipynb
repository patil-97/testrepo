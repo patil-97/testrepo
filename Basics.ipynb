{
 "cells": [
  {
   "cell_type": "code",
   "execution_count": 1,
   "id": "4afafeca",
   "metadata": {},
   "outputs": [
    {
     "name": "stdout",
     "output_type": "stream",
     "text": [
      "total salary is :  7000\n"
     ]
    }
   ],
   "source": [
    "# print()\n",
    "\n",
    "salary = 7000\n",
    "print(\"total salary is : \",salary)"
   ]
  },
  {
   "cell_type": "code",
   "execution_count": 2,
   "id": "a354f20a",
   "metadata": {},
   "outputs": [
    {
     "name": "stdout",
     "output_type": "stream",
     "text": [
      "welcome\n",
      "to\n",
      "Python World\n"
     ]
    }
   ],
   "source": [
    "print('welcome')\n",
    "print('to')\n",
    "print('Python World')\n"
   ]
  },
  {
   "cell_type": "code",
   "execution_count": 38,
   "id": "b57cf2fb",
   "metadata": {},
   "outputs": [
    {
     "name": "stdout",
     "output_type": "stream",
     "text": [
      "Multi line comments\n"
     ]
    }
   ],
   "source": [
    "\"\"\"Three double inverted comma used for multi line comments\n",
    "like this.\n",
    "Hello\n",
    "\"\"\"\n",
    "print(\"Multi line comments\")"
   ]
  },
  {
   "cell_type": "code",
   "execution_count": 9,
   "id": "cbe63983",
   "metadata": {},
   "outputs": [
    {
     "name": "stdout",
     "output_type": "stream",
     "text": [
      "['Daddy', 'Mummy', 'Tai', 'Suresh', 'Shivalila']\n"
     ]
    }
   ],
   "source": [
    "#List[]\n",
    "family= ['Daddy','Mummy','Tai','Suresh','Shivalila']\n",
    "print(family)"
   ]
  },
  {
   "cell_type": "code",
   "execution_count": 3,
   "id": "b177af92",
   "metadata": {},
   "outputs": [
    {
     "name": "stdout",
     "output_type": "stream",
     "text": [
      "Welcometo Python World "
     ]
    }
   ],
   "source": [
    "# end=''\n",
    "\n",
    "print('Welcome', end='')\n",
    "print('to', end=' ')\n",
    "print('Python World', end=' ')"
   ]
  },
  {
   "cell_type": "code",
   "execution_count": 4,
   "id": "6bd120dd",
   "metadata": {},
   "outputs": [
    {
     "name": "stdout",
     "output_type": "stream",
     "text": [
      "Hello Dear\n",
      "Enter you name  Welcome\n",
      "Nice to see you"
     ]
    }
   ],
   "source": [
    "print('Hello Dear', end='\\n')\n",
    "print('Enter you name ', end=' ')\n",
    "print('Welcome')\n",
    "print(end='Nice to see you')"
   ]
  },
  {
   "cell_type": "code",
   "execution_count": 5,
   "id": "a62ee8b4",
   "metadata": {},
   "outputs": [
    {
     "name": "stdout",
     "output_type": "stream",
     "text": [
      "100 150 200 250\n",
      "100150200250\n",
      "100, 150, 200, 250\n",
      "100 150 200 250\n",
      "100----150----200----250\n"
     ]
    }
   ],
   "source": [
    "#sep='' \n",
    "\n",
    "var1, var2, var3, var4 = 100, 150, 200, 250\n",
    "print(var1, var2, var3, var4)\n",
    "print(var1, var2, var3, var4, sep='')\n",
    "print(var1, var2, var3, var4, sep=', ')\n",
    "print(var1, var2, var3, var4, sep=' ')\n",
    "print(var1, var2, var3, var4, sep='----')"
   ]
  },
  {
   "cell_type": "code",
   "execution_count": null,
   "id": "c6181e62",
   "metadata": {},
   "outputs": [],
   "source": [
    "# input()  function\n",
    "\n",
    "num1=input (\"Enter the number: \")\n",
    "print(\"The number is : \",num1, \"and the class is : \",type(num1))"
   ]
  },
  {
   "cell_type": "code",
   "execution_count": null,
   "id": "222c79ba",
   "metadata": {},
   "outputs": [],
   "source": [
    "username=input(\"Enter Your name : \")\n",
    "print(\"Hello and Welcome\",username, 'to the Python World.')"
   ]
  },
  {
   "cell_type": "code",
   "execution_count": null,
   "id": "8bf8a3c1",
   "metadata": {},
   "outputs": [],
   "source": [
    "# input with Int() function\n",
    "\n",
    "salary= int(input(\"Enter the Salary \"))\n",
    "print(\"Your salary is\",salary)"
   ]
  },
  {
   "cell_type": "code",
   "execution_count": null,
   "id": "e468c5eb",
   "metadata": {},
   "outputs": [],
   "source": [
    "# input with float() functin\n",
    "\n",
    "side= float(input(\"Enter the side of the square \"))\n",
    "area= side*side\n",
    "print(\"The area of square using variable is :\",area)\n",
    "print(\"The area of square computed directly is\",side*side )"
   ]
  },
  {
   "cell_type": "code",
   "execution_count": null,
   "id": "d72ea482",
   "metadata": {},
   "outputs": [],
   "source": [
    "# input with eval()  function\n",
    "\n",
    "val1= eval(input('Enter the value of first variable: '))\n",
    "print('val1 =', val1, 'type :', type(val1))\n",
    "val2= eval(input('Enter the value of second variable: '))\n",
    "print('val2 =', val2, 'type :', type(val2))\n",
    "val3 = eval(input('Enter the value of third variable: '))\n",
    "print('val3 =', val3, 'type: ', type(val3))\n"
   ]
  },
  {
   "cell_type": "code",
   "execution_count": null,
   "id": "a553cd55",
   "metadata": {},
   "outputs": [],
   "source": [
    "# multiple inputs\n",
    "\n",
    "a,b,c = eval(input('Enter three numbers: '))\n",
    "print(a,'+',b, '+',c, '=', a+b+c)"
   ]
  },
  {
   "cell_type": "code",
   "execution_count": null,
   "id": "5a0c7902",
   "metadata": {},
   "outputs": [],
   "source": [
    "#Operators\n",
    "#Arithmetic operators\n",
    "\n",
    "num1= int(input('Enter the first number : '))\n",
    "num2= int(input('Enter the second number : '))\n",
    "\n",
    "print(num1, '+', num2, '=',num1+num2)\n",
    "print(num1, '-', num2, '=',num1-num2)\n",
    "print(num1, '*', num2, '=',num1*num2)\n",
    "print(num1, '/', num2, '=',num1/num2)\n",
    "print(num1, '%', num2, '=',num1%num2)\n",
    "print(num1, '**', num2, '=',num1**num2)\n",
    "print(num1, '//', num2, '=',num1//num2)"
   ]
  },
  {
   "cell_type": "code",
   "execution_count": null,
   "id": "2fd90dcb",
   "metadata": {},
   "outputs": [],
   "source": [
    "#Assignment Operators\n",
    "\n",
    "num1= int(input('Enter the first number '))\n",
    "num2= int(input('Enter the second number '))\n",
    "\n",
    "#Add AND assignment operator (+=) : It adds right to left operand and assigns the result to the\n",
    "#left operand. y += x is equivalent to y = y + x.\n",
    "result=num2\n",
    "result+=num1\n",
    "print(\"The result of addition of assignment is: \",result)\n",
    "\n",
    "result=num2\n",
    "result-=num1\n",
    "print(\"The result of subtraction assignment is: \",result)\n",
    "\n",
    "result=num2\n",
    "result*=num1\n",
    "print(\"The result of multiplication assignment is: \",result)\n",
    "\n",
    "result=num2\n",
    "result/=num1\n",
    "print(\"The result of division assignment is: \",result)\n",
    "\n",
    "result=num2\n",
    "result//=num1\n",
    "print(\"The result of integer division assignment is: \",result)\n",
    "\n",
    "result=num2\n",
    "result%=num1\n",
    "print(\"The result of modulus assignment is: \",result)\n",
    "\n",
    "result=num2\n",
    "result**=num1\n",
    "print(\"The result of exponential assignment is: \",result)\n",
    "\n",
    "\n"
   ]
  },
  {
   "cell_type": "code",
   "execution_count": null,
   "id": "fafb7c64",
   "metadata": {},
   "outputs": [],
   "source": [
    "#Relational Operators\n",
    "\n",
    "num1=60\n",
    "num2=30\n",
    "\n",
    "print(\"The result of equals to operator is: \", num1==num2)\n",
    "\n",
    "print(\"The result of not equals to operator is: \",num1!=num2)\n",
    "\n",
    "print(\"The result of greater than operator is: \",num1>num2)\n",
    "\n",
    "print(\"The result of greater than or equal to operator is: \",num1>=num2)\n",
    "\n",
    "print(\"The result of less than operator is: \",num1<num2)\n",
    "\n",
    "print(\"The result of less than or equal to operator is: \",num1<=num2)\n"
   ]
  },
  {
   "cell_type": "code",
   "execution_count": null,
   "id": "09d59c94",
   "metadata": {},
   "outputs": [],
   "source": [
    "# Logical Operators  (and, or, not)\n",
    "\n",
    "num1=250\n",
    "num2=350\n",
    "num3=275\n",
    "\n",
    "#use of \"and\" logical operator\n",
    "print(\"The use of and operator: \",num1>num3 and num2>num3)\n",
    "\n",
    "#use of \"or\" logical operator\n",
    "print(\"the use of or operator: \",num1>num3 or num2>num3)\n",
    "\n",
    "#use of \"not\" logical operator\n",
    "print(\"the use of not operator: \",not num1<num3)"
   ]
  },
  {
   "cell_type": "code",
   "execution_count": null,
   "id": "e243929d",
   "metadata": {},
   "outputs": [],
   "source": [
    "#program to show the utility of operator precedence\n",
    "\n",
    "a=200\n",
    "b=100\n",
    "c=50\n",
    "\n",
    "print(\"parenthesis has highest precedence: \",(a+c)*(a+b))\n",
    "print(\"Multiplication has higher precedence than addition: \",a+c*b)\n",
    "print (\"Relational has higher precedence than logical operator: \",a>b and b<c)"
   ]
  },
  {
   "cell_type": "code",
   "execution_count": null,
   "id": "57ffaee0",
   "metadata": {},
   "outputs": [],
   "source": [
    "#Decision making structure (If....else statement)\n",
    "\n",
    "p1, p2 = eval(input(\"Input the share price of two organisations: \"))\n",
    "\n",
    "#using If statement\n",
    "if (p1>p2):\n",
    "    print(\"The first Organisation is performing better\")\n",
    "else:\n",
    "    print(\"The second Organisation is performing better\")\n",
    "    "
   ]
  },
  {
   "cell_type": "code",
   "execution_count": null,
   "id": "05d74ce5",
   "metadata": {},
   "outputs": [],
   "source": [
    "# Program to print the result depending on Profit\n",
    "\n",
    "sales = float(input(\"विक्री \"))\n",
    "expenses = float(input(\"खर्च \"))\n",
    "profit=sales-expenses\n",
    "loss=expenses-sales\n",
    "if profit>0:\n",
    "    print(\"फायदा :\",profit,'रु')\n",
    "    \n",
    "else :\n",
    "    print(\"नुकसान :\",loss,'रु')\n",
    "   "
   ]
  },
  {
   "cell_type": "code",
   "execution_count": null,
   "id": "29a4025c",
   "metadata": {},
   "outputs": [],
   "source": [
    "# Nested \"if\" statement\n",
    "\n",
    "p1,p2,p3 = eval(input(\"Enter the Prices of three Products : \"))\n",
    "if (p1>p2):\n",
    "    if(p1>p3):\n",
    "        print(\"The first product is Expensive\")\n",
    "    else:\n",
    "        print(\"The third product is Expensive\")\n",
    "else:\n",
    "    if(p2>p3):\n",
    "        print(\"The second product is Expensive\")\n",
    "    else:\n",
    "        print('The third product is Expensive')"
   ]
  },
  {
   "cell_type": "code",
   "execution_count": null,
   "id": "e6af640f",
   "metadata": {},
   "outputs": [],
   "source": [
    "# If-elif-else Ladder\n",
    "#Program to print performance depending on quantity sold.\n",
    "\n",
    "qty = eval(input(\"Input the quantity sold : \"))\n",
    "if(qty>=900):\n",
    "    print(\"Excellent Performance\")\n",
    "elif(qty>=700):\n",
    "    print(\"Above average Performance\")\n",
    "elif(qty>=500):\n",
    "    print(\"Average Performance\")\n",
    "else:\n",
    "    print(\"Poor Performance\")"
   ]
  },
  {
   "cell_type": "code",
   "execution_count": null,
   "id": "5b270f79",
   "metadata": {},
   "outputs": [],
   "source": [
    "#Program to determine whether the given point lies on the line or not.\n",
    "\n",
    "#Input the coordinates of line.\n",
    "a,b,c=eval(input(\"Enter the coefficients of x, y and intercept: \"))\n",
    "#Input the coordinates of point\n",
    "x,y=eval(input(\"Enter the coordinates of the point: \"))\n",
    "\n",
    "#check the condition\n",
    "if((x*a)+(y*b)-c)<0:\n",
    "    print(\"The point is on the left side of the line\")\n",
    "elif((x*a)+(y*b)-c)>0:\n",
    "    print(\"The point is on the right side of the line\")\n",
    "else:\n",
    "    print(\"The point is on the line\")"
   ]
  },
  {
   "cell_type": "code",
   "execution_count": null,
   "id": "ca500a17",
   "metadata": {},
   "outputs": [],
   "source": [
    "#Program using Logical operators: or(|), and(&)\n",
    "\n",
    "salary=eval(input(\"Input the salary\"))\n",
    "\n",
    "#Using or(|) operator.\n",
    "if(salary<=0) | (salary>300000):\n",
    "    print(\"Invalid salary\")\n",
    "\n",
    "#Using and(&) operator.\n",
    "if(salary<50000) & (salary>0):\n",
    "    print(\"Junior Manager Salary\")\n",
    "if(salary>=50000) & (salary<100000):\n",
    "    print(\"Middle-level Manager\")\n",
    "if(salary>=100000) & (salary<=300000):\n",
    "    print(\"Senior Manager\")"
   ]
  },
  {
   "cell_type": "code",
   "execution_count": null,
   "id": "646d376c",
   "metadata": {},
   "outputs": [],
   "source": [
    "#Program using If Ladder\n",
    "\n",
    "salary=eval(input(\"Input the salary\"))\n",
    "if(salary<=0):\n",
    "    print(\"Invalid salary\")\n",
    "elif(salary<=50000):\n",
    "    print(\"Junior Manager\")\n",
    "elif(salary<=100000):\n",
    "    print(\"Middle-level Manager\")\n",
    "else:\n",
    "    print(\"Senior Manager\")"
   ]
  },
  {
   "cell_type": "code",
   "execution_count": 4,
   "id": "34990d60",
   "metadata": {},
   "outputs": [
    {
     "name": "stdout",
     "output_type": "stream",
     "text": [
      "Enter your choice: Pangram, Consogram, Vowgram: Pangram\n",
      "Enter the String The quick brown fox jumps over the lazy little dog\n",
      "It is a Pangram\n"
     ]
    }
   ],
   "source": [
    "#Program to determine whether the string is pangram, consogram or vowgram.\n",
    "choice=input(\"Enter your choice: Pangram, Consogram, Vowgram: \")\n",
    "\n",
    "#Defining letters for checking in different scenario.\n",
    "if choice==\"Pangram\":\n",
    "    letters='abcdefghijklmnopqrstuvwxyz'\n",
    "elif choice==\"Consogram\":\n",
    "    letters=\"bcdfghjklmnpqrstvwxyz\"\n",
    "elif choice==\"Vowgram\":\n",
    "    letters=\"aeiou\"\n",
    "else:\n",
    "    print(\"Not a valid choice\")\n",
    "    \n",
    "#Input the string\n",
    "user_string=input(\"Enter the String \")\n",
    "flag=True\n",
    "\n",
    "#check the occurrence of each and every letter in the user defined string.\n",
    "for letter in letters :\n",
    "    if letter not in user_string.lower():\n",
    "        flag=False\n",
    "        break\n",
    "        \n",
    "#Displaying the output\n",
    "if flag==False:\n",
    "    print(\"Not a\", choice)\n",
    "else:\n",
    "    print(\"It is a\", choice)"
   ]
  },
  {
   "cell_type": "code",
   "execution_count": 9,
   "id": "33299487",
   "metadata": {},
   "outputs": [
    {
     "name": "stdout",
     "output_type": "stream",
     "text": [
      "Enter the Number10\n",
      "10 x 1  =  10\n",
      "10 x 2  =  20\n",
      "10 x 3  =  30\n",
      "10 x 4  =  40\n",
      "10 x 5  =  50\n",
      "10 x 6  =  60\n",
      "10 x 7  =  70\n",
      "10 x 8  =  80\n",
      "10 x 9  =  90\n",
      "10 x 10  =  100\n"
     ]
    }
   ],
   "source": [
    "# Loops\n",
    "# for loop\n",
    "# for var in range (start, end, step):\n",
    "# where \n",
    "#var is the variable name\n",
    "#start denotes the starting number\n",
    "#end denotes the ending number\n",
    "#step is the optional step for increment or decrement (default are +1 and -1)\n",
    "\n",
    "#program for printing the table of a number\n",
    "num=int(input(\"Enter the Number\"))\n",
    "for k in range (1,11):\n",
    "    print(num, \"x\", k,\" = \",num*k)\n",
    "    "
   ]
  },
  {
   "cell_type": "code",
   "execution_count": 10,
   "id": "ce529c7b",
   "metadata": {},
   "outputs": [
    {
     "name": "stdout",
     "output_type": "stream",
     "text": [
      "Input the number to print the table: 2\n",
      "2  x  1  =  2\n",
      "2  x  3  =  6\n",
      "2  x  5  =  10\n",
      "2  x  7  =  14\n",
      "2  x  9  =  18\n"
     ]
    }
   ],
   "source": [
    "#program for printing the table of a number using step argument.\n",
    "num=int(input(\"Input the number to print the table: \"))\n",
    "for k in range(1,11,2):\n",
    "    print(num,\" x \",k,\" = \",num*k)"
   ]
  },
  {
   "cell_type": "code",
   "execution_count": 13,
   "id": "860858b8",
   "metadata": {},
   "outputs": [
    {
     "name": "stdout",
     "output_type": "stream",
     "text": [
      "Input the last number of series: 6\n",
      "The total is:  21\n",
      "Finished Task\n"
     ]
    }
   ],
   "source": [
    "#program to print sum of the series 1+2+3+4+....\n",
    "sum=0\n",
    "num=int(input(\"Input the last number of series: \"))\n",
    "for k in range(1,num+1):\n",
    "    sum=sum+k\n",
    "#Outside the \"for\" loop\n",
    "print(\"The total is: \",sum)\n",
    "print(\"Finished Task\")"
   ]
  },
  {
   "cell_type": "code",
   "execution_count": 15,
   "id": "d5058307",
   "metadata": {},
   "outputs": [
    {
     "name": "stdout",
     "output_type": "stream",
     "text": [
      "Enter the number5\n",
      "The answer is  50\n"
     ]
    }
   ],
   "source": [
    "#program to calculate difference between sum of squares and the number.\n",
    "num=int(input(\"Enter the number \"))\n",
    "sum=0\n",
    "for i in range(1,num+1):\n",
    "    sum = sum + (i *i)\n",
    "#outside the for loop\n",
    "ans = sum - num\n",
    "print(\"The answer is \",ans)"
   ]
  },
  {
   "cell_type": "code",
   "execution_count": 2,
   "id": "07a5900d",
   "metadata": {},
   "outputs": [
    {
     "name": "stdout",
     "output_type": "stream",
     "text": [
      "Number of fibonacci series to be printed5\n",
      "0\n",
      "1\n",
      "1\n",
      "2\n",
      "3\n",
      "5\n",
      "8\n"
     ]
    }
   ],
   "source": [
    "#Program to generate Fibonacci series\n",
    "num=int(input(\"Number of fibonacci series to be printed\"))\n",
    "a=0\n",
    "b=1\n",
    "print(a)\n",
    "print(b)\n",
    "\n",
    "for k in range(1,num+1):\n",
    "    c=a+b\n",
    "    a=b\n",
    "    b=c\n",
    "    print(c)"
   ]
  },
  {
   "cell_type": "code",
   "execution_count": 4,
   "id": "a4778d3a",
   "metadata": {},
   "outputs": [
    {
     "name": "stdout",
     "output_type": "stream",
     "text": [
      "Enter the number5\n",
      "120\n"
     ]
    }
   ],
   "source": [
    "#program to calculate factorial number\n",
    "num=int(input(\"Enter the number \"))\n",
    "fact=1\n",
    "for k in range(1,num+1):\n",
    "    fact=fact*k\n",
    "print(fact)"
   ]
  },
  {
   "cell_type": "code",
   "execution_count": 6,
   "id": "fa17f801",
   "metadata": {},
   "outputs": [
    {
     "name": "stdout",
     "output_type": "stream",
     "text": [
      "Suresh\n",
      "SURESH\n",
      "suresh\n"
     ]
    }
   ],
   "source": [
    "name= \"suresh\"\n",
    "print(name.title())\n",
    "print(name.upper())\n",
    "print(name.lower())"
   ]
  },
  {
   "cell_type": "code",
   "execution_count": 8,
   "id": "33b55a9b",
   "metadata": {},
   "outputs": [
    {
     "name": "stdout",
     "output_type": "stream",
     "text": [
      "The Zen of Python, by Tim Peters\n",
      "\n",
      "Beautiful is better than ugly.\n",
      "Explicit is better than implicit.\n",
      "Simple is better than complex.\n",
      "Complex is better than complicated.\n",
      "Flat is better than nested.\n",
      "Sparse is better than dense.\n",
      "Readability counts.\n",
      "Special cases aren't special enough to break the rules.\n",
      "Although practicality beats purity.\n",
      "Errors should never pass silently.\n",
      "Unless explicitly silenced.\n",
      "In the face of ambiguity, refuse the temptation to guess.\n",
      "There should be one-- and preferably only one --obvious way to do it.\n",
      "Although that way may not be obvious at first unless you're Dutch.\n",
      "Now is better than never.\n",
      "Although never is often better than *right* now.\n",
      "If the implementation is hard to explain, it's a bad idea.\n",
      "If the implementation is easy to explain, it may be a good idea.\n",
      "Namespaces are one honking great idea -- let's do more of those!\n"
     ]
    }
   ],
   "source": [
    "import this\n"
   ]
  },
  {
   "cell_type": "code",
   "execution_count": 16,
   "id": "3d4098ff",
   "metadata": {},
   "outputs": [
    {
     "name": "stdout",
     "output_type": "stream",
     "text": [
      "Enter the number of Items 2\n",
      "Enter the Price 5000\n",
      "Enter the Quantity 1\n",
      "Enter the Price 100\n",
      "Enter the Quantity 10\n",
      "Total is  6000\n",
      "Discount of 10% =  600.0\n",
      "Total amount is  5400.0\n"
     ]
    }
   ],
   "source": [
    "#Program to show use of \"For\" and \"If\" in the same program.\n",
    "num=int(input(\"Enter the number of Items \"))\n",
    "amount=0\n",
    "discount=0\n",
    "\n",
    "#using for loop\n",
    "for k in range(1,num+1):\n",
    "    price=eval(input(\"Enter the Price \"))\n",
    "    quantity=eval(input(\"Enter the Quantity \"))\n",
    "    amount=amount+(price*quantity)\n",
    "print(\"Total is \",amount)\n",
    "\n",
    "#Using If conditional statement\n",
    "if amount>5000:\n",
    "    discount=amount*0.1\n",
    "    print(\"Discount of 10% = \",discount)\n",
    "elif amount>3000:\n",
    "    discount=amount*0.07\n",
    "    print(\"Discount of 7% = \",discount)\n",
    "elif amount>1000:\n",
    "    discount=amount*0.05\n",
    "    print(\"Discount of 5% = \",discount)\n",
    "else:\n",
    "    print(\"No Discount Below 1000\")\n",
    "print(\"Total amount is \",amount-discount)"
   ]
  },
  {
   "cell_type": "code",
   "execution_count": 9,
   "id": "109c7837",
   "metadata": {},
   "outputs": [
    {
     "name": "stdout",
     "output_type": "stream",
     "text": [
      "Input the number of lines: 5\n",
      "* \n",
      "\n",
      "* * \n",
      "\n",
      "* * * \n",
      "\n",
      "* * * * \n",
      "\n",
      "* * * * * \n",
      "\n"
     ]
    }
   ],
   "source": [
    "#Nesting of for loops\n",
    "num=int(input(\"Input the number of lines: \"))\n",
    "for k in range(1,num+1):\n",
    "    for j in range(1,k+1):\n",
    "        print(\"*\",end=\" \")\n",
    "    print(\"\\n\")"
   ]
  },
  {
   "cell_type": "code",
   "execution_count": 46,
   "id": "428ccfeb",
   "metadata": {},
   "outputs": [
    {
     "name": "stdout",
     "output_type": "stream",
     "text": [
      "101\n",
      "102\n",
      "103\n",
      "104\n",
      "105\n",
      "Task Completed...\n"
     ]
    }
   ],
   "source": [
    "# While Loop\n",
    "\n",
    "#Program using while loop to print numbers within a range.\n",
    "counter = 101\n",
    "while counter <=105:\n",
    "    print(counter)\n",
    "    counter += 1  #While loop should be incremented, otherwise an infinite loop may occur.\n",
    "print(\"Task Completed...\")\n",
    "   "
   ]
  },
  {
   "cell_type": "code",
   "execution_count": 1,
   "id": "2738b69a",
   "metadata": {},
   "outputs": [
    {
     "name": "stdout",
     "output_type": "stream",
     "text": [
      "Input the Price : 100\n",
      "Input the Quantity : 2\n",
      "Wish to Continue - Yes/No : Yes\n",
      "Input the Price : 200\n",
      "Input the Quantity : 1\n",
      "Wish to Continue - Yes/No : Yes\n",
      "Input the Price : 50\n",
      "Input the Quantity : 2\n",
      "Wish to Continue - Yes/No : No\n",
      "Your Bill Amount is :  500\n",
      "Task complete...\n"
     ]
    }
   ],
   "source": [
    "#Program to show use of while loop for computing bill amount.\n",
    "\n",
    "amount=0\n",
    "choice=\"Yes\"\n",
    "\n",
    "#using while loop.\n",
    "while (choice==\"Yes\"):\n",
    "    price=eval(input(\"Input the Price : \"))\n",
    "    quantity=eval(input(\"Input the Quantity : \"))\n",
    "    amount=(price*quantity)+amount\n",
    "    choice=input(\"Wish to Continue - Yes/No : \")\n",
    "#Outside the loop.\n",
    "print(\"Your Bill Amount is : \",amount)\n",
    "print(\"Task complete...\")"
   ]
  },
  {
   "cell_type": "code",
   "execution_count": null,
   "id": "5d68d597",
   "metadata": {},
   "outputs": [],
   "source": [
    "amount=0\n",
    "choice=\"yes\"\n",
    "while (choice==\"yes\"):\n",
    "    price=eval(input(\"Enter the Price\"))\n",
    "    quantity=eval(input(\"Enter the Quantity\"))\n",
    "    amount=(price*quantity)+amount\n",
    "    choice=input(\"Enter Your Choice yes/no : \")\n",
    "print(\"Total Bill is : \",amount)\n"
   ]
  },
  {
   "cell_type": "code",
   "execution_count": 3,
   "id": "0bc637c8",
   "metadata": {},
   "outputs": [
    {
     "name": "stdout",
     "output_type": "stream",
     "text": [
      "Enter the Price: 150000\n",
      "The tax to be paid is : 22500.0\n"
     ]
    }
   ],
   "source": [
    "#This program is to calculate TAX\n",
    "price=eval(input(\"Enter the Price: \"))\n",
    "tax=0\n",
    "if (price>100000):\n",
    "    tax=15/100*price\n",
    "elif (price>50000) & (price<=100000):\n",
    "     tax=10/100*price\n",
    "else:\n",
    "    tax=5/100*price\n",
    "print(\"The tax to be paid is :\",tax)\n",
    "    "
   ]
  },
  {
   "cell_type": "code",
   "execution_count": 13,
   "id": "33c58daf",
   "metadata": {},
   "outputs": [
    {
     "name": "stdout",
     "output_type": "stream",
     "text": [
      "Enter the year : 1996\n",
      "This year is leap year\n"
     ]
    }
   ],
   "source": [
    "# Check whether an year is leap year of not\n",
    "year=int(input(\"Enter the year : \"))\n",
    "if (year%4==0):\n",
    "    print(\"This year is leap year\")\n",
    "else:\n",
    "    print(\"This year is not leap year\")"
   ]
  },
  {
   "cell_type": "code",
   "execution_count": 17,
   "id": "55c012b0",
   "metadata": {},
   "outputs": [
    {
     "name": "stdout",
     "output_type": "stream",
     "text": [
      "Enter the Number : 567\n",
      "The sum of the numbers is :  18\n"
     ]
    }
   ],
   "source": [
    "#Program to find the sum of digits of a number\n",
    "num=int(input(\"Enter the Number : \"))\n",
    "sum=0\n",
    "\n",
    "#Using while loop\n",
    "while (num>0):\n",
    "    rem=num%10\n",
    "    sum=sum+rem\n",
    "    num=num//10\n",
    "#Outside the loop\n",
    "print(\"The sum of the numbers is : \",sum)"
   ]
  },
  {
   "cell_type": "code",
   "execution_count": 7,
   "id": "0a123a0b",
   "metadata": {},
   "outputs": [
    {
     "name": "stdout",
     "output_type": "stream",
     "text": [
      "Input the number of lines: 5\n",
      "1\n",
      "\n",
      "12\n",
      "\n",
      "123\n",
      "\n",
      "1234\n",
      "\n",
      "12345\n",
      "\n"
     ]
    }
   ],
   "source": [
    "#Nesting of \"while\" loops\n",
    "k=1\n",
    "x=int(input(\"Input the number of lines: \"))\n",
    "while k<=x:\n",
    "    j=1\n",
    "    while j<=k:\n",
    "        print(j,end=\"\")\n",
    "        j=j+1\n",
    "    print(\"\\n\")\n",
    "    k=k+1"
   ]
  },
  {
   "cell_type": "code",
   "execution_count": 16,
   "id": "9f67a934",
   "metadata": {},
   "outputs": [
    {
     "name": "stdout",
     "output_type": "stream",
     "text": [
      "Enter your choice: 1 for odd, 2 for even: 1\n",
      "Odd numbers in the range are: \n",
      "11\n",
      "13\n",
      "15\n",
      "17\n",
      "19\n"
     ]
    }
   ],
   "source": [
    "#Nesting of Conditional Statements and loops\n",
    "#The \"for\" loop inside \"if\" conditional statement\n",
    "#Program for printing even/odd numbers depending on user's choice.\n",
    "choice=int(input(\"Enter your choice: 1 for odd, 2 for even: \"))\n",
    "\n",
    "#Using for inside if structure.\n",
    "if choice==1:\n",
    "    print(\"Odd numbers in the range are: \")\n",
    "    for k in range(11,20,2):\n",
    "        print(k)\n",
    "elif choice==2:\n",
    "    print(\"Even numbers in the range are: \")\n",
    "    for k in range(2,11,2):\n",
    "        print(k)\n",
    "else:\n",
    "    print(\"Invalid Choice\")"
   ]
  },
  {
   "cell_type": "code",
   "execution_count": 17,
   "id": "6b85aa72",
   "metadata": {},
   "outputs": [
    {
     "name": "stdout",
     "output_type": "stream",
     "text": [
      "Eneter the String : I Love India\n",
      "The Length of the string is :  10\n"
     ]
    }
   ],
   "source": [
    "#the \"if\" conditional statement inside \"for\" loop\n",
    "#Program to compute the length of a given string ignoring spaces.\n",
    "string=input(\"Eneter the String : \")\n",
    "count=0\n",
    "\n",
    "#Use of if inside for loop\n",
    "for letter in string:\n",
    "    if letter !=' ':\n",
    "        count=count+1\n",
    "#Outside the loop\n",
    "print(\"The Length of the string is : \",count)\n"
   ]
  },
  {
   "cell_type": "code",
   "execution_count": 45,
   "id": "5e2f2e15",
   "metadata": {},
   "outputs": [
    {
     "name": "stdout",
     "output_type": "stream",
     "text": [
      "ABC\n",
      "ACB\n",
      "BAC\n",
      "BCA\n",
      "CAB\n",
      "CBA\n"
     ]
    }
   ],
   "source": [
    "#Program to print all different arrangements of the letters M,N,O\n",
    "for first in 'ABC':\n",
    "    for second in 'ABC':\n",
    "        if second != first:\n",
    "            for third in 'ABC':\n",
    "                if third != first and third !=second :\n",
    "                    print(first + second + third)\n",
    "                "
   ]
  },
  {
   "cell_type": "code",
   "execution_count": 8,
   "id": "2a259b46",
   "metadata": {},
   "outputs": [
    {
     "name": "stdout",
     "output_type": "stream",
     "text": [
      "Enter the first string: Because\n",
      "Enter the second string: Use\n",
      "It is a kangaroo word.\n"
     ]
    }
   ],
   "source": [
    "#Program to determine whether one string is kangaroo word of second.\n",
    "string1=input(\"Enter the first string: \")\n",
    "string2=input(\"Enter the second string: \")\n",
    "flag=True\n",
    "\n",
    "#check the basic condition\n",
    "if len(string1)<len(string2):\n",
    "    print(\"Wrong!!!Second string is bigger than the first string\")\n",
    "    \n",
    "#Execute if the basix condition is satisfied\n",
    "else:\n",
    "    val=0\n",
    "    for i in range (0,len(string2)):\n",
    "        for j in range (val,len(string1)):\n",
    "            if (string2[i] == string1 [j]):\n",
    "                val = j\n",
    "                flag=True\n",
    "                break\n",
    "            else:\n",
    "                flag=False\n",
    "if flag==False:\n",
    "    print(\"It is not a kangaroo Word\")\n",
    "else:\n",
    "    print(\"It is a kangaroo word.\")"
   ]
  },
  {
   "cell_type": "code",
   "execution_count": 11,
   "id": "c93a718e",
   "metadata": {},
   "outputs": [
    {
     "name": "stdout",
     "output_type": "stream",
     "text": [
      "Choice: A(Add) or S(Sub): A\n",
      "Enter the number: 15\n",
      "Wish to continue - yes/no: yes\n",
      "Choice: A(Add) or S(Sub): A\n",
      "Enter the number: 30\n",
      "Wish to continue - yes/no: no\n",
      "The total is:  45\n"
     ]
    }
   ],
   "source": [
    "# the if conditional statement inside while loop\n",
    "#Program to perform the operation randomly depending on user's choice.\n",
    "Total = 0\n",
    "choice=\"yes\"\n",
    "\n",
    "#Use of if statement inside the while loop.\n",
    "while choice==\"yes\":\n",
    "    operation=input(\"Choice: A(Add) or S(Sub): \")\n",
    "    amount = int(input(\"Enter the number: \"))\n",
    "    if operation==\"A\":\n",
    "        Total += amount\n",
    "    elif operation == \"S\":\n",
    "        Total -= amount\n",
    "    else:\n",
    "        pass\n",
    "    choice=input(\"Wish to continue - yes/no: \")\n",
    "#Outside the loop\n",
    "print(\"The total is: \",Total)"
   ]
  },
  {
   "cell_type": "code",
   "execution_count": 24,
   "id": "841bd68f",
   "metadata": {},
   "outputs": [
    {
     "name": "stdout",
     "output_type": "stream",
     "text": [
      "Enter your choice: 1 or 2 :- 1\n",
      "Enter the starting number of Range: 1\n",
      "Enter the ending number of Range: 5\n",
      "1 2 3 4 "
     ]
    }
   ],
   "source": [
    "#Using for , while and if together\n",
    "#Program to use three control flow statements in a single program.\n",
    "choice=eval(input(\"Enter your choice: 1 or 2 :- \"))\n",
    "if choice==1:\n",
    "    start=eval(input(\"Enter the starting number of Range: \"))\n",
    "    end= eval(input(\"Enter the ending number of Range: \"))\n",
    "    for x in range (start,end):\n",
    "        print(x, end=' ')\n",
    "elif choice==2:\n",
    "    ans=\"y\"\n",
    "    value=111\n",
    "    while (ans==\"y\"):\n",
    "        print(value)\n",
    "        value=value+1\n",
    "        ans=input(\"press y to continue: \")\n",
    "else:\n",
    "    print(\"Invalid Choice.\")\n",
    "    \n",
    "    "
   ]
  },
  {
   "cell_type": "code",
   "execution_count": 37,
   "id": "9c37c503",
   "metadata": {},
   "outputs": [
    {
     "name": "stdout",
     "output_type": "stream",
     "text": [
      "11 12 13 14 15 16 "
     ]
    }
   ],
   "source": [
    "\"\"\" Break Statement\n",
    "    Program to show use of break statement to terminate for loop in between.\n",
    "\"\"\"\n",
    "for num in range(11,20):\n",
    "    print(num, end=' ')\n",
    "    if(num>15):\n",
    "        break\n",
    "        "
   ]
  },
  {
   "cell_type": "code",
   "execution_count": null,
   "id": "f4a3669d",
   "metadata": {},
   "outputs": [],
   "source": [
    "# Proper positioning of break statement inside the nested loops is mportant for the correct executin.\n",
    "# Multiple break statements can also be used at different places for effective control."
   ]
  },
  {
   "cell_type": "code",
   "execution_count": 40,
   "id": "243407e7",
   "metadata": {},
   "outputs": [
    {
     "name": "stdout",
     "output_type": "stream",
     "text": [
      "Enter Positive Integer number to add; Negative to end.\n",
      "Input the amount: 2\n",
      "Input the amount: 5\n",
      "Input the amount: 6\n",
      "Input the amount: 1\n",
      "Input the amount: 0\n",
      "Input the amount: -1\n",
      "The total is = 14\n",
      "Task Completed.\n"
     ]
    }
   ],
   "source": [
    "#Program to use break statement to terminate while loop in between.\n",
    "total=0\n",
    "print(\"Enter Positive Integer number to add; Negative to end.\")\n",
    "while True:\n",
    "    amount = eval(input(\"Input the amount: \"))\n",
    "    if amount <0:\n",
    "        break\n",
    "    total += amount\n",
    "#outside the loop and decision making statement\n",
    "print(\"The total is =\",total)\n",
    "print(\"Task Completed.\")\n"
   ]
  },
  {
   "cell_type": "code",
   "execution_count": 48,
   "id": "d2e9e441",
   "metadata": {},
   "outputs": [
    {
     "name": "stdout",
     "output_type": "stream",
     "text": [
      "Enter largest limit for displaying prime numbers: 10\n",
      "2 3 5 7 \n"
     ]
    }
   ],
   "source": [
    "#Program to display prime numbers till a number\n",
    "limit = eval(input(\"Enter largest limit for displaying prime numbers: \"))\n",
    "for value in range (2, limit+1):\n",
    "    is_prime = True\n",
    "    for factor in range (2, value):\n",
    "        if (value%factor==0):\n",
    "            is_prime = False\n",
    "            break\n",
    "    if is_prime:\n",
    "        print(value,end=' ')\n",
    "#Outside the loop and decision making statement.\n",
    "print()"
   ]
  },
  {
   "cell_type": "code",
   "execution_count": 49,
   "id": "c98eb87d",
   "metadata": {},
   "outputs": [
    {
     "name": "stdout",
     "output_type": "stream",
     "text": [
      "Enter largest limit for printin prime number: 100\n",
      "5 7 11 13 17 19 23 29 31 37 41 43 47 53 59 61 67 71 73 79 83 89 97 \n"
     ]
    }
   ],
   "source": [
    "#program to print prime numbers from 5 till the user-specified number.\n",
    "k=1\n",
    "limit = int(input(\"Enter largest limit for printin prime number: \"))\n",
    "while (k<limit):\n",
    "    j=2\n",
    "    while (j<=(k/j)):\n",
    "        if not (k%j):\n",
    "            break\n",
    "        j=j+1\n",
    "        if (j>k/j):\n",
    "            print(k,end=' ')\n",
    "    k=k+1\n",
    "print()"
   ]
  },
  {
   "cell_type": "code",
   "execution_count": 64,
   "id": "ea6bb037",
   "metadata": {},
   "outputs": [
    {
     "name": "stdout",
     "output_type": "stream",
     "text": [
      "Input the number (press 0 to quit): 1\n",
      "Input the number (press 0 to quit): 5\n",
      "Input the number (press 0 to quit): 0\n",
      "The total number is = 6\n"
     ]
    }
   ],
   "source": [
    "# Continue Statement\n",
    "# Program to add positive integers till user enters 0\n",
    "total=0\n",
    "complete = False;\n",
    "while not complete:\n",
    "    amount = eval(input(\"Input the number (press 0 to quit): \"))\n",
    "    if (amount<0):\n",
    "        print(\"Wrong!!! You entered a negative value\", amount)\n",
    "        continue\n",
    "    #skip rest of body for this iteration.\n",
    "    if (amount==0):\n",
    "        complete = True\n",
    "    else:\n",
    "        total+=amount\n",
    "        \n",
    "#outside the loop and decision making statement.\n",
    "print(\"The total number is =\",total)\n"
   ]
  },
  {
   "cell_type": "code",
   "execution_count": 61,
   "id": "359abc8f",
   "metadata": {},
   "outputs": [
    {
     "name": "stdout",
     "output_type": "stream",
     "text": [
      "The last letter is :  O\n"
     ]
    }
   ],
   "source": [
    "# Pass Statement\n",
    "# Using pass statement.\n",
    "for letter in 'HELLO':\n",
    "    pass\n",
    "print(\"The last letter is : \",letter)"
   ]
  },
  {
   "cell_type": "code",
   "execution_count": null,
   "id": "f4738187",
   "metadata": {},
   "outputs": [],
   "source": [
    "#Exception Handling\n",
    "\"\"\"\n",
    "Syntax:-\n",
    "try:\n",
    "except Exception 1:\n",
    "except Exception 2:\n",
    "else:\n",
    "finally:\n",
    "\"\"\""
   ]
  },
  {
   "cell_type": "code",
   "execution_count": 79,
   "id": "24435f42",
   "metadata": {},
   "outputs": [
    {
     "name": "stdout",
     "output_type": "stream",
     "text": [
      "Input the days between 1-7: 8\n",
      "Wrong!!! Check week day....\n"
     ]
    }
   ],
   "source": [
    "#This program can be created effictively using exception handling as:\n",
    "#Program to show use of exception handling.\n",
    "choice=int(input(\"Input the days between 1-7: \"))\n",
    "try:\n",
    "    if choice<1 or choice>7:\n",
    "        raise ValueError()\n",
    "    if (choice==1):\n",
    "        weekday=\"Monday\"\n",
    "    elif (choice==2):\n",
    "        weekday=\"Tuesday\"\n",
    "    elif (choice==3):\n",
    "        weekday=\"Wednesday\"\n",
    "    elif (choice==4):\n",
    "        weekday=\"Thursday\"\n",
    "    elif (choice==5):\n",
    "        weekday=\"Friday\"\n",
    "    elif (choice==6):\n",
    "        weekday=\"Saturday\"\n",
    "    else:\n",
    "        weekday=\"Sunday\"\n",
    "    print(\"The day is \",weekday)\n",
    "except ValueError:\n",
    "    print(\"Wrong!!! Check week day....\")"
   ]
  },
  {
   "cell_type": "code",
   "execution_count": 77,
   "id": "3168f634",
   "metadata": {},
   "outputs": [
    {
     "name": "stdout",
     "output_type": "stream",
     "text": [
      "Error!!! File is not found\n",
      "Close the file\n"
     ]
    }
   ],
   "source": [
    "#Exception handling using multiple except blocks, else and finally\n",
    "try:\n",
    "    newfile=open(\"firstfile\",\"r\")\n",
    "    value=newfile.readline()\n",
    "    newvalue=value+100\n",
    "except ValueError:\n",
    "    print(\"Integer is not present\")\n",
    "except IOError:\n",
    "    print(\"Error!!! File is not found\")\n",
    "except:\n",
    "    print(\"Some Error\")\n",
    "else:\n",
    "    print(\"Success!!!!! Task Completed\")\n",
    "finally:\n",
    "    print(\"Close the file\")"
   ]
  },
  {
   "cell_type": "code",
   "execution_count": 97,
   "id": "e149cdcb",
   "metadata": {},
   "outputs": [
    {
     "name": "stdout",
     "output_type": "stream",
     "text": [
      "Hello\n",
      "Python is Awesome\n",
      "Hello\n",
      "Python is Awesome\n",
      "Hello\n",
      "Python is Awesome\n"
     ]
    }
   ],
   "source": [
    "#User-Defined Functions\n",
    "#Functions without Arguments\n",
    "def hello():\n",
    "    print(\"Hello\")\n",
    "    print(\"Python is Awesome\")\n",
    "hello(),\n",
    "hello()\n",
    "hello()"
   ]
  },
  {
   "cell_type": "code",
   "execution_count": 92,
   "id": "a262dd45",
   "metadata": {},
   "outputs": [
    {
     "name": "stdout",
     "output_type": "stream",
     "text": [
      "Sum is :  300\n",
      "Sum is :  300\n"
     ]
    }
   ],
   "source": [
    "#Creating a function with arguments and compute the result for arguments.\n",
    "def function1():\n",
    "    num1=100\n",
    "    num2=200\n",
    "    print(\"Sum is : \",num1+num2)\n",
    "function1()\n",
    "function1()\n",
    "\n",
    "    "
   ]
  },
  {
   "cell_type": "code",
   "execution_count": 95,
   "id": "27f16604",
   "metadata": {},
   "outputs": [
    {
     "name": "stdout",
     "output_type": "stream",
     "text": [
      "7 14 21 28 35 "
     ]
    }
   ],
   "source": [
    "# creating a function without an argument and using a for loop\n",
    "def fun2():\n",
    "    for num in range (1,6):\n",
    "        print(num*7,end=' ')\n",
    "fun2()\n"
   ]
  },
  {
   "cell_type": "code",
   "execution_count": 15,
   "id": "08ca6b8a",
   "metadata": {},
   "outputs": [
    {
     "name": "stdout",
     "output_type": "stream",
     "text": [
      "Choice : 1-square, 2-circle, 3-rectangle, 4-triangle : 1\n",
      "Enter the length of square : 4\n",
      "The area of square is : 16\n"
     ]
    }
   ],
   "source": [
    "#Program for creating multiple functins in a single program\n",
    "#creating area_square function for calculating area.\n",
    "def area_square():\n",
    "    side=eval(input(\"Enter the length of square : \"))\n",
    "    print(\"The area of square is :\",side*side)\n",
    "def area_circle():\n",
    "    rad=eval(input(\"Enter the radius of circle : \"))\n",
    "    print(\"The area of circle is :\",3.14*rad*rad)\n",
    "def area_rectangle():\n",
    "    length, breadth=eval(input(\"Enter the length and Breadth: \"))\n",
    "    print(\"The area of rectange is\",length*breadth)\n",
    "def area_triangle():\n",
    "    a,b,c=eval(input(\"Enter the three sides of Triangle: \"))\n",
    "    s=(a+b+c)/2\n",
    "    print(\"The are of Triangle is:\",((s-a)+(s-b)+(s-c))**0.5)\n",
    "#Calling the function according to user choice.\n",
    "choice=int(input(\"Choice : 1-square, 2-circle, 3-rectangle, 4-triangle : \"))\n",
    "if choice==1:\n",
    "    area_square()\n",
    "elif choice==2:\n",
    "    area_circle()\n",
    "elif choice==3:\n",
    "    area_rectangle()\n",
    "elif choice==4:\n",
    "    area_triangle()\n",
    "else:\n",
    "    print(\"Not a valid choice\")\n",
    "    "
   ]
  },
  {
   "cell_type": "code",
   "execution_count": 16,
   "id": "c6246107",
   "metadata": {},
   "outputs": [
    {
     "name": "stdout",
     "output_type": "stream",
     "text": [
      "Welcome\n",
      "4000\n"
     ]
    }
   ],
   "source": [
    "#creating a functin without arguments and returning a single value\n",
    "def bill():\n",
    "    print(\"Welcome\")\n",
    "    amount=4000\n",
    "    return amount\n",
    "#calling a function\n",
    "value=bill()\n",
    "print(value)"
   ]
  },
  {
   "cell_type": "code",
   "execution_count": 22,
   "id": "ba88f782",
   "metadata": {},
   "outputs": [
    {
     "name": "stdout",
     "output_type": "stream",
     "text": [
      "Input two numbers: 4,2\n",
      "The Number is a multiple:  True\n"
     ]
    }
   ],
   "source": [
    "#Program to create a function that returns a boolean value\n",
    "def multiple():\n",
    "    num1,num2=eval(input(\"Input two numbers: \"))\n",
    "    if num1%num2==0:\n",
    "        return True\n",
    "    else:\n",
    "        return False\n",
    "print(\"The Number is a multiple: \",multiple())"
   ]
  },
  {
   "cell_type": "code",
   "execution_count": 27,
   "id": "bc25c43e",
   "metadata": {},
   "outputs": [
    {
     "name": "stdout",
     "output_type": "stream",
     "text": [
      "Choice : 1-square, 2-circle, 3-rectangle, 4-triangle : 1\n",
      "Enter the length of square : 4\n",
      "The area of the shape is : 16\n"
     ]
    }
   ],
   "source": [
    "def area_square():\n",
    "    side=eval(input(\"Enter the length of square : \"))\n",
    "    return side*side\n",
    "def area_circle():\n",
    "    rad=eval(input(\"Enter the radius of circle : \"))\n",
    "    return 3.14*rad*rad\n",
    "def area_rectangle():\n",
    "    length, breadth=eval(input(\"Enter the length and Breadth: \"))\n",
    "    return length*breadth\n",
    "def area_triangle():\n",
    "    a,b,c=eval(input(\"Enter the three sides of Triangle: \"))\n",
    "    s=(a+b+c)/2\n",
    "    return ((s-a)+(s-b)+(s-c))**0.5\n",
    "#Calling the function according to user choice.\n",
    "choice=int(input(\"Choice : 1-square, 2-circle, 3-rectangle, 4-triangle : \"))\n",
    "if choice==1:\n",
    "    area=area_square()\n",
    "elif choice==2:\n",
    "    area=area_circle()\n",
    "elif choice==3:\n",
    "    area=area_rectangle()\n",
    "elif choice==4:\n",
    "    area=area_triangle()\n",
    "else:\n",
    "    print(\"Not a valid choice\")\n",
    "print(\"The area of the shape is :\",area)"
   ]
  },
  {
   "cell_type": "code",
   "execution_count": 7,
   "id": "5657dd6a",
   "metadata": {},
   "outputs": [
    {
     "name": "stdout",
     "output_type": "stream",
     "text": [
      "Using return for multiple values\n",
      "Sale in MH is  5000 Sale in GJ is  2500 Sale in DL is  4000\n"
     ]
    }
   ],
   "source": [
    "# creating a function that returns multiple values\n",
    "def amount():\n",
    "    print(\"Using return for multiple values\")\n",
    "    Maharashtra = 5000\n",
    "    Gujrat = 2500\n",
    "    Delhi = 4000\n",
    "    return Maharashtra,Gujrat,Delhi\n",
    "#Calling the functin\n",
    "a1,a2,a3 = amount()\n",
    "print(\"Sale in MH is \",a1,\"Sale in GJ is \",a2,\"Sale in DL is \",a3)"
   ]
  },
  {
   "cell_type": "code",
   "execution_count": 9,
   "id": "4908da71",
   "metadata": {},
   "outputs": [
    {
     "name": "stdout",
     "output_type": "stream",
     "text": [
      "8 * 1 = 8\n",
      "8 * 2 = 16\n",
      "8 * 3 = 24\n",
      "8 * 4 = 32\n",
      "8 * 5 = 40\n",
      "8 * 6 = 48\n",
      "8 * 7 = 56\n",
      "8 * 8 = 64\n",
      "8 * 9 = 72\n",
      "8 * 10 = 80\n"
     ]
    }
   ],
   "source": [
    "#Functions with arguments\n",
    "#creating a functin with single argument for printing table of a number\n",
    "def table(num1):\n",
    "    for i in range (1,11):\n",
    "        print(num1,'*',i,'=',num1*i)\n",
    "#Calling the function with 8 as an argument.\n",
    "table(8)"
   ]
  },
  {
   "cell_type": "code",
   "execution_count": 38,
   "id": "5956dbf8",
   "metadata": {},
   "outputs": [
    {
     "name": "stdout",
     "output_type": "stream",
     "text": [
      "Printing the table using three arguments\n",
      "8 * 1 = 8\n",
      "8 * 2 = 16\n",
      "8 * 3 = 24\n",
      "8 * 4 = 32\n",
      "8 * 5 = 40\n",
      "8 * 6 = 48\n",
      "8 * 7 = 56\n",
      "8 * 8 = 64\n",
      "8 * 9 = 72\n",
      "8 * 10 = 80\n",
      "8 * 1 = 8\n",
      "8 * 2 = 16\n",
      "8 * 3 = 24\n",
      "8 * 4 = 32\n",
      "8 * 5 = 40\n",
      "8 * 6 = 48\n",
      "8 * 7 = 56\n",
      "8 * 8 = 64\n",
      "8 * 9 = 72\n",
      "8 * 10 = 80\n",
      "8 * 1 = 8\n",
      "8 * 2 = 16\n",
      "8 * 3 = 24\n",
      "8 * 4 = 32\n",
      "8 * 5 = 40\n",
      "8 * 6 = 48\n",
      "8 * 7 = 56\n",
      "8 * 8 = 64\n",
      "8 * 9 = 72\n",
      "8 * 10 = 80\n"
     ]
    }
   ],
   "source": [
    "# Creating a function with multiple arguments.\n",
    "def newtable(num1,num2,num3):\n",
    "    for i in range (num2,num3):\n",
    "        print(num1,'*',i,'=',num1*i)\n",
    "#Calling a function with three arguments by position of arguments.\n",
    "print(\"Printing the table using three arguments\")\n",
    "newtable(8,1,11,)\n",
    "\n",
    "#calling the function with three arguments by name of the arguments:\n",
    "newtable(num1=8,num2=1,num3=11) \n",
    "\n",
    "#calling the function with three arguments by changing order of arguments\n",
    "newtable(num3=11, num1=8, num2=1)"
   ]
  },
  {
   "cell_type": "code",
   "execution_count": 42,
   "id": "836472eb",
   "metadata": {},
   "outputs": [
    {
     "name": "stdout",
     "output_type": "stream",
     "text": [
      "choice : 1-sq, 2-circle, 3-rectangle, 4-triangle1\n",
      "Input the length 4\n",
      "The area of square is  16\n"
     ]
    }
   ],
   "source": [
    "#Program to compute area with arguments and without return statement.\n",
    "def area_square(side):\n",
    "    print(\"The area of square is \",side*side)\n",
    "def area_circle(rad):\n",
    "    print(\"The area of circleis \",3.14*rad*rad)\n",
    "def area_rectangle(length,breadth):\n",
    "    print(\"The area of rectangle is \",length*breadth)\n",
    "def area_triangle(a,b,c):\n",
    "    s=(a+b+c)/2\n",
    "    print(\"The area of the triangle is \",(((s-a)+(s-b)+(s-c))**0.5))\n",
    "\n",
    "choice=int(input(\"choice : 1-sq, 2-circle, 3-rectangle, 4-triangle\"))\n",
    "if choice==1:\n",
    "    side=eval(input(\"Input the length \"))\n",
    "    area_square(side)\n",
    "elif choice==2:\n",
    "    rad=eval(input(\"Enter Radius \"))\n",
    "    area_circle(rad)\n",
    "elif choice==3:\n",
    "    length,breadth=eval(input(\"Enter l and b \"))\n",
    "    area_rectangle(length,breadth)\n",
    "elif choice==4:\n",
    "    a,b,c=eval(input(\"Enter three sides \"))\n",
    "    area_triangle(a,b,c)\n",
    "else:\n",
    "    print(\"Not a valid Choice\")"
   ]
  },
  {
   "cell_type": "code",
   "execution_count": 46,
   "id": "add8092c",
   "metadata": {},
   "outputs": [
    {
     "name": "stdout",
     "output_type": "stream",
     "text": [
      "choice: 1=sq, 2=circle, 3=rect, 4=triangle 2\n",
      "5\n",
      "The area of a shape is:  78.5\n"
     ]
    }
   ],
   "source": [
    "# creating functions with arguments and with return statement.\n",
    "def area_square(side):\n",
    "    return side*side\n",
    "def area_circle(rad):\n",
    "    return 3.14*rad*rad\n",
    "def area_rectangle(length,breadth):\n",
    "    return length*breadth\n",
    "def area_triangle(a,b,c):\n",
    "    s=(a+b+c)/2\n",
    "    return (((s-a)+(s-b)+(s-c))**0.5)\n",
    "#Calling the function according to user choice.\n",
    "choice=int(input(\"choice: 1=sq, 2=circle, 3=rect, 4=triangle \"))\n",
    "if choice==1:\n",
    "    side=eval(input(\"\"))\n",
    "    area=area_square(side)\n",
    "elif choice==2:\n",
    "    rad=eval(input(\"\"))\n",
    "    area=area_circle(rad)\n",
    "elif choice==3:\n",
    "    length,breadth=eval(input(\"\"))\n",
    "    area=area_rectangle(length,breadth)\n",
    "elif choice==4:\n",
    "    a,b,c=eval(input(\"\"))\n",
    "    area=area_triangle(a,b,c)\n",
    "else:\n",
    "    print(\"Not a valid choice\")\n",
    "                              \n",
    "print(\"The area of a shape is: \",area)\n",
    "\n"
   ]
  },
  {
   "cell_type": "code",
   "execution_count": 49,
   "id": "38720fee",
   "metadata": {},
   "outputs": [
    {
     "name": "stdout",
     "output_type": "stream",
     "text": [
      "Enter the two numbers: 2,2\n",
      "The numbers are not amicable\n"
     ]
    }
   ],
   "source": [
    "# Program to determine whether two numbers are amicable.\n",
    "#create a function.\n",
    "def sumoffact(num):\n",
    "    sum=1\n",
    "    for i in range (2,num):\n",
    "        if num%i==0:\n",
    "            sum=sum+i\n",
    "    return sum\n",
    "#accpting input from user\n",
    "x,y=eval(input(\"Enter the two numbers: \"))\n",
    "#calling the function\n",
    "val1=sumoffact(x)\n",
    "val2=sumoffact(y)\n",
    "\n",
    "#check condition of amicable nos. throughoutput returned from fuction.\n",
    "if (val1==y) & (val2==x):\n",
    "    print(\"The numbers are amicable\")\n",
    "else:\n",
    "    print(\"The numbers are not amicable\")"
   ]
  },
  {
   "cell_type": "code",
   "execution_count": 55,
   "id": "fc48cf99",
   "metadata": {},
   "outputs": [
    {
     "name": "stdout",
     "output_type": "stream",
     "text": [
      "Enter the roman number : x\n",
      "The Roman equivalent is :  10\n"
     ]
    }
   ],
   "source": [
    "#Converting a Roman numeral to corresponding value:\n",
    "#creating a function for returning value of roman numeral.\n",
    "def value(roman):\n",
    "    if (roman == 'I'):\n",
    "        return 1\n",
    "    if (roman == 'V'):\n",
    "        return 5\n",
    "    if (roman == 'x'):\n",
    "        return 10\n",
    "    if (roman == 'L'):\n",
    "        return 50\n",
    "    if (roman == 'C'):\n",
    "        return 100\n",
    "    if (roman == 'D'):\n",
    "        return 500\n",
    "    if (roman == 'M'):\n",
    "        return 1000\n",
    "#input the numbers from the user\n",
    "roman_num = input(\"Enter the roman number : \")\n",
    "length=len(roman_num)\n",
    "ans=0\n",
    "#Executing for loop for converting complete string of roman numerals.\n",
    "for i in range (0,length):\n",
    "    s1=roman_num[i]\n",
    "    ans1=value(s1)\n",
    "    if (i+1<length):\n",
    "        s2=roman_num[i+1]\n",
    "        ans2=value(s2)\n",
    "        if (ans1>=ans2):\n",
    "            ans=ans+ans1\n",
    "        else:\n",
    "            ans= ans+ans2-ans1\n",
    "            break\n",
    "    else:\n",
    "        ans = ans + ans1\n",
    "print(\"The Roman equivalent is : \",ans)\n",
    "        \n",
    "    "
   ]
  },
  {
   "cell_type": "code",
   "execution_count": 63,
   "id": "fb882fa5",
   "metadata": {},
   "outputs": [
    {
     "name": "stdout",
     "output_type": "stream",
     "text": [
      "Hello Dear!!!\n",
      "WElcome to the Python World!!!\n"
     ]
    }
   ],
   "source": [
    "#Nesting of Functions\n",
    "#Program to show nested functions.\n",
    "#create two functions\n",
    "def greet():\n",
    "    print(\"Hello Dear!!!\")\n",
    "def welcome():\n",
    "    greet()\n",
    "    print(\"WElcome to the Python World!!!\")\n",
    "welcome()"
   ]
  },
  {
   "cell_type": "code",
   "execution_count": 66,
   "id": "094d59fe",
   "metadata": {},
   "outputs": [
    {
     "name": "stdout",
     "output_type": "stream",
     "text": [
      "Hello Dear!!!\n",
      "Welcome to the Python World!!!\n",
      "It is not an armstrong number\n",
      "Thanks!!!\n"
     ]
    }
   ],
   "source": [
    "#Program to show the use of nesting of functions to a greater level.\n",
    "def greet():\n",
    "    print(\"Hello Dear!!!\")\n",
    "def welcome():\n",
    "    greet()\n",
    "    print(\"Welcome to the Python World!!!\")\n",
    "def armstrong(num):\n",
    "    welcome()\n",
    "    sum=0\n",
    "    n=num\n",
    "    while n>0:\n",
    "        ans=n%10\n",
    "        sum= sum+(ans**3)\n",
    "        n=n//10\n",
    "    if sum==num:\n",
    "        print(\"It is an armstrong number\")\n",
    "    else:\n",
    "        print(\"It is not an armstrong number\")\n",
    "def task():\n",
    "    armstrong(7136)\n",
    "    print(\"Thanks!!!\")\n",
    "task()"
   ]
  },
  {
   "cell_type": "code",
   "execution_count": 68,
   "id": "0a788630",
   "metadata": {},
   "outputs": [
    {
     "name": "stdout",
     "output_type": "stream",
     "text": [
      "Welcome to the python world\n",
      "The reversed number is :  316\n"
     ]
    }
   ],
   "source": [
    "#Program using return statement along with nesting of functions:\n",
    "#Creating first functin\n",
    "def welcome():\n",
    "    print (\"Welcome to the python world\")\n",
    "#Creating second function which calls the first function\n",
    "def reverse(num):\n",
    "    welcome()\n",
    "    reverse=0\n",
    "    while num>0:\n",
    "        remainder=num%10\n",
    "        reverse=(reverse*10)+remainder\n",
    "        num=num//10\n",
    "    return reverse\n",
    "result=reverse(613)\n",
    "print(\"The reversed number is : \",result)"
   ]
  },
  {
   "cell_type": "code",
   "execution_count": 69,
   "id": "c8f5cef7",
   "metadata": {},
   "outputs": [
    {
     "name": "stdout",
     "output_type": "stream",
     "text": [
      "The reversed number is :  316\n"
     ]
    }
   ],
   "source": [
    "def welcome():\n",
    "    print(\"Welcome to Python World!!!\")\n",
    "def reversenum(num):\n",
    "    reverse=0\n",
    "    while num>0:\n",
    "        remainder=num%10\n",
    "        reverse=(reverse*10)+remainder\n",
    "        num=num//10\n",
    "    return reverse\n",
    "    welcome()\n",
    "result=reversenum(613)\n",
    "print(\"The reversed number is : \",result)"
   ]
  },
  {
   "cell_type": "code",
   "execution_count": 74,
   "id": "5995a1e0",
   "metadata": {},
   "outputs": [
    {
     "name": "stdout",
     "output_type": "stream",
     "text": [
      "Choice-1 for Determining Vowel, 2 for length: 2\n",
      "Input the string: suresh\n",
      "The length of string is:  6\n",
      "Do you wish to continue: yes/no: no\n",
      "Finished Task\n"
     ]
    }
   ],
   "source": [
    "#Program to show the use of string argument in functions.\n",
    "#Creating function to determine whether each letter in string is a vowel\n",
    "def vowel(str):\n",
    "    vowelset=['a','e','i','o','u']\n",
    "    for letter in str:\n",
    "        if letter in vowelset:\n",
    "            print(\"The letter\",letter,\"is a vowel\")\n",
    "        else:\n",
    "            print(\"The letter\",letter,\"is a consonant\")\n",
    "#creating function to determine length of the string.\n",
    "def length(str):\n",
    "    count = 0\n",
    "    for letter in str:\n",
    "        if letter !=' ':\n",
    "            count=count+1\n",
    "    return count\n",
    "#Creating the main function for accepting user's choice.\n",
    "def main():\n",
    "    choice=int(input(\"Choice-1 for Determining Vowel, 2 for length: \"))\n",
    "    userstring=input(\"Input the string: \")\n",
    "    if choice==1:\n",
    "        vowel(userstring)\n",
    "    elif choice==2:\n",
    "        print(\"The length of string is: \",length(userstring))\n",
    "    else:\n",
    "        print(\"Invalid choice\")\n",
    "#Main program.\n",
    "valid=\"yes\"\n",
    "while(valid==\"yes\"):\n",
    "    main()\n",
    "    valid=input(\"Do you wish to continue: yes/no: \")\n",
    "print(\"Finished Task\")"
   ]
  },
  {
   "cell_type": "code",
   "execution_count": 4,
   "id": "1d575f20",
   "metadata": {},
   "outputs": [
    {
     "name": "stdout",
     "output_type": "stream",
     "text": [
      "Input the number: 10\n",
      "The factorial of  10 is  3628800\n"
     ]
    }
   ],
   "source": [
    "#Recursive Functions.\n",
    "# Creating a recursive function for computing factorial.\n",
    "def fact(num):\n",
    "    if num==0:\n",
    "        return 1\n",
    "    else:\n",
    "        ans=num*fact(num-1)\n",
    "        return ans\n",
    "value=int(input(\"Input the number: \"))\n",
    "print(\"The factorial of \",value,\"is \",fact(value))"
   ]
  },
  {
   "cell_type": "code",
   "execution_count": 14,
   "id": "9cd6e0b3",
   "metadata": {},
   "outputs": [
    {
     "name": "stdout",
     "output_type": "stream",
     "text": [
      "The amount is:  700\n"
     ]
    }
   ],
   "source": [
    "#Scope of variables within functions\n",
    "#Program to show the scope of variables.\n",
    "total=1000\n",
    "#creating function.\n",
    "def offer():\n",
    "    discount=300;\n",
    "    print(\"The amount is: \",total-discount)\n",
    "offer()\n"
   ]
  },
  {
   "cell_type": "code",
   "execution_count": 16,
   "id": "12dcd154",
   "metadata": {},
   "outputs": [
    {
     "name": "stdout",
     "output_type": "stream",
     "text": [
      "The total is:  1000\n"
     ]
    },
    {
     "ename": "NameError",
     "evalue": "name 'discount' is not defined",
     "output_type": "error",
     "traceback": [
      "\u001b[1;31m---------------------------------------------------------------------------\u001b[0m",
      "\u001b[1;31mNameError\u001b[0m                                 Traceback (most recent call last)",
      "Cell \u001b[1;32mIn[16], line 9\u001b[0m\n\u001b[0;32m      7\u001b[0m     \u001b[38;5;28mprint\u001b[39m(\u001b[38;5;124m\"\u001b[39m\u001b[38;5;124mThe amountis : \u001b[39m\u001b[38;5;124m\"\u001b[39m,total\u001b[38;5;241m-\u001b[39mdiscount)\n\u001b[0;32m      8\u001b[0m offer()\n\u001b[1;32m----> 9\u001b[0m \u001b[43mamount\u001b[49m\u001b[43m(\u001b[49m\u001b[43m)\u001b[49m\n",
      "Cell \u001b[1;32mIn[16], line 7\u001b[0m, in \u001b[0;36mamount\u001b[1;34m()\u001b[0m\n\u001b[0;32m      5\u001b[0m \u001b[38;5;28;01mdef\u001b[39;00m \u001b[38;5;21mamount\u001b[39m():\n\u001b[0;32m      6\u001b[0m     \u001b[38;5;28mprint\u001b[39m(\u001b[38;5;124m\"\u001b[39m\u001b[38;5;124mThe total is: \u001b[39m\u001b[38;5;124m\"\u001b[39m, total)\n\u001b[1;32m----> 7\u001b[0m     \u001b[38;5;28mprint\u001b[39m(\u001b[38;5;124m\"\u001b[39m\u001b[38;5;124mThe amountis : \u001b[39m\u001b[38;5;124m\"\u001b[39m,total\u001b[38;5;241m-\u001b[39m\u001b[43mdiscount\u001b[49m)\n",
      "\u001b[1;31mNameError\u001b[0m: name 'discount' is not defined"
     ]
    }
   ],
   "source": [
    "#Program to understand the scope of a variable in a function\n",
    "total=1000\n",
    "def offer():\n",
    "    discount=300;\n",
    "def amount():\n",
    "    print(\"The total is: \", total)\n",
    "    print(\"The amountis : \",total-discount)\n",
    "offer()\n",
    "amount()"
   ]
  },
  {
   "cell_type": "code",
   "execution_count": 22,
   "id": "3268aab6",
   "metadata": {},
   "outputs": [
    {
     "name": "stdout",
     "output_type": "stream",
     "text": [
      "The total is  1000\n",
      "The amount is : 700\n"
     ]
    }
   ],
   "source": [
    "#Program to show utilty of global variables\n",
    "total=1000\n",
    "def offer():\n",
    "    global discount\n",
    "    discount=300;\n",
    "def amount():\n",
    "    print(\"The total is \",total)\n",
    "    print(\"The amount is :\",total-discount)\n",
    "offer()\n",
    "amount()"
   ]
  },
  {
   "cell_type": "code",
   "execution_count": 29,
   "id": "c450fb6e",
   "metadata": {},
   "outputs": [
    {
     "name": "stdout",
     "output_type": "stream",
     "text": [
      "Add: Adds three numbers\n",
      "Subtract: Subtracts three numbers\n",
      "Multiply: Multiplies three numbers\n",
      "A)dd S)ubtract M)ultiply: a\n",
      "first number1\n",
      "second number1\n",
      "third number1\n",
      "The total: is :  3\n"
     ]
    }
   ],
   "source": [
    "#Program to show use of global variables in functions.\n",
    "#creating function for displaying.\n",
    "def show():\n",
    "    print(\"Add: Adds three numbers\")\n",
    "    print(\"Subtract: Subtracts three numbers\")\n",
    "    print(\"Multiply: Multiplies three numbers\")\n",
    "#creating a function for accepting choice by user.\n",
    "def choice():\n",
    "    return input(\"A)dd S)ubtract M)ultiply: \")\n",
    "#creating function for accepting input.\n",
    "def get_var():\n",
    "    global val1,val2,val3\n",
    "    val1 = int(input(\"first number\"))\n",
    "    val2 = int(input(\"second number\"))\n",
    "    val3 = int(input(\"third number\"))\n",
    "def add():\n",
    "    global ans\n",
    "    ans=val1+val2+val3\n",
    "def subtract():\n",
    "    global ans\n",
    "    ans=val1-val2-val3\n",
    "def multiply():\n",
    "    global ans\n",
    "    ans=val1*val2*val3\n",
    "def output():\n",
    "    print(\"The total: is : \",ans)\n",
    "\n",
    "#Creating the main function\n",
    "def main():\n",
    "    show()\n",
    "    userchoice=choice()\n",
    "    if userchoice== \"A\" or userchoice ==\"a\":\n",
    "        get_var()\n",
    "        add()\n",
    "        output()\n",
    "    elif userchoice== \"S\" or userchoice ==\"s\":\n",
    "        get_var()\n",
    "        subtract()\n",
    "        output()\n",
    "    elif userchoice== \"M\" or userchoice ==\"m\":\n",
    "        get_var()\n",
    "        multiply()\n",
    "        output()\n",
    "    else:\n",
    "        print(\"invalid choice.\")\n",
    "main()\n",
    "    \n",
    "    \n",
    "\n",
    "    \n",
    "    "
   ]
  },
  {
   "cell_type": "code",
   "execution_count": 31,
   "id": "82e7b72a",
   "metadata": {},
   "outputs": [
    {
     "name": "stdout",
     "output_type": "stream",
     "text": [
      "Please enter five decimal numbers:\n",
      "Enter the number 1: 5\n",
      "Enter the number 2: .5\n",
      "Enter the number 3: 0.2\n",
      "Enter the number 4: 5\n",
      "Enter the number 5: 4\n",
      "The sum of num is :  14.7\n"
     ]
    }
   ],
   "source": [
    "# Program to add five numbers using for loop.\n",
    "print(\"Please enter five decimal numbers:\")\n",
    "total=0\n",
    "for i in range(0,5):\n",
    "    value = float(input(\"Enter the number \" + str(i+1) + \": \"))\n",
    "    total+=value\n",
    "print(\"The sum of num is : \",total)"
   ]
  },
  {
   "cell_type": "code",
   "execution_count": null,
   "id": "d600ae5e",
   "metadata": {},
   "outputs": [],
   "source": []
  }
 ],
 "metadata": {
  "kernelspec": {
   "display_name": "Python 3 (ipykernel)",
   "language": "python",
   "name": "python3"
  },
  "language_info": {
   "codemirror_mode": {
    "name": "ipython",
    "version": 3
   },
   "file_extension": ".py",
   "mimetype": "text/x-python",
   "name": "python",
   "nbconvert_exporter": "python",
   "pygments_lexer": "ipython3",
   "version": "3.10.9"
  }
 },
 "nbformat": 4,
 "nbformat_minor": 5
}
